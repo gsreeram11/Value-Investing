{
 "cells": [
  {
   "cell_type": "code",
   "execution_count": 1,
   "metadata": {},
   "outputs": [],
   "source": [
    "import pandas as pd"
   ]
  },
  {
   "cell_type": "code",
   "execution_count": 2,
   "metadata": {},
   "outputs": [],
   "source": [
    "cstat = pd.read_sas('compustat_annual_large.sas7bdat')"
   ]
  },
  {
   "cell_type": "code",
   "execution_count": 3,
   "metadata": {},
   "outputs": [
    {
     "data": {
      "text/plain": [
       "['GVKEY',\n",
       " 'DATADATE',\n",
       " 'FYEAR',\n",
       " 'LPERMNO',\n",
       " 'CONM',\n",
       " 'ACT',\n",
       " 'AT',\n",
       " 'CEQ',\n",
       " 'CHE',\n",
       " 'DLC',\n",
       " 'DLTT',\n",
       " 'INVT',\n",
       " 'LCT',\n",
       " 'LT',\n",
       " 'PPENT',\n",
       " 'PSTK',\n",
       " 'SEQ',\n",
       " 'TXP',\n",
       " 'WCAP',\n",
       " 'COGS',\n",
       " 'DP',\n",
       " 'IB',\n",
       " 'NI',\n",
       " 'OIBDP',\n",
       " 'REVT',\n",
       " 'XINT',\n",
       " 'XSGA',\n",
       " 'CAPX',\n",
       " 'CSHO',\n",
       " 'CONSOL',\n",
       " 'INDFMT',\n",
       " 'DATAFMT',\n",
       " 'POPSRC',\n",
       " 'CURCD',\n",
       " 'COSTAT']"
      ]
     },
     "execution_count": 3,
     "metadata": {},
     "output_type": "execute_result"
    }
   ],
   "source": [
    "cstat.head(5)\n",
    "list(cstat.columns.values)"
   ]
  },
  {
   "cell_type": "code",
   "execution_count": 4,
   "metadata": {},
   "outputs": [
    {
     "name": "stderr",
     "output_type": "stream",
     "text": [
      "/Users/ganeshsreeram/anaconda3/lib/python3.6/site-packages/pandas/core/generic.py:1993: PerformanceWarning: \n",
      "your performance may suffer as PyTables will pickle object types that it cannot\n",
      "map directly to c-types [inferred_type->mixed,key->block2_values] [items->['GVKEY', 'CONM', 'CONSOL', 'INDFMT', 'DATAFMT', 'POPSRC', 'CURCD', 'COSTAT']]\n",
      "\n",
      "  return pytables.to_hdf(path_or_buf, key, self, **kwargs)\n"
     ]
    }
   ],
   "source": [
    "cstat.to_hdf('compustat_annual.h5', 'cstat', mode='w')\n"
   ]
  },
  {
   "cell_type": "code",
   "execution_count": null,
   "metadata": {},
   "outputs": [],
   "source": []
  }
 ],
 "metadata": {
  "kernelspec": {
   "display_name": "Python 3",
   "language": "python",
   "name": "python3"
  },
  "language_info": {
   "codemirror_mode": {
    "name": "ipython",
    "version": 3
   },
   "file_extension": ".py",
   "mimetype": "text/x-python",
   "name": "python",
   "nbconvert_exporter": "python",
   "pygments_lexer": "ipython3",
   "version": "3.6.5"
  }
 },
 "nbformat": 4,
 "nbformat_minor": 2
}
